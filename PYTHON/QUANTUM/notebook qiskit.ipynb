{
 "cells": [
  {
   "cell_type": "code",
   "execution_count": 2,
   "metadata": {},
   "outputs": [],
   "source": [
    "from qiskit.aqua.algorithms import Shor  # This qiskit quantum package from IBM\n",
    "from qiskit.aqua import QuantumInstance\n",
    "from qiskit import Aer\n",
    "import time  # I import time package to calculate execution time"
   ]
  },
  {
   "cell_type": "code",
   "execution_count": 3,
   "metadata": {},
   "outputs": [
    {
     "name": "stdout",
     "output_type": "stream",
     "text": [
      "[[3, 7]]\n",
      "Total time to execute only above quantum code i.e. 3233974572.3677883\n"
     ]
    }
   ],
   "source": [
    "start_time = time.time()\n",
    "key = 21   # number tp factor\n",
    "base = 2\n",
    "\n",
    "backend = Aer.get_backend('qasm_simulator')\n",
    "\n",
    "qi = QuantumInstance(backend=backend, shots=1024)\n",
    "\n",
    "shors = Shor(N=key, a=base, quantum_instance=qi)\n",
    "results = shors.run()\n",
    "print(results['factors'])\n",
    "\n",
    "end_time = time.time()\n",
    "\n",
    "print(\"Total time to execute only above quantum code i.e.\", start_time+end_time)"
   ]
  },
  {
   "cell_type": "code",
   "execution_count": null,
   "metadata": {},
   "outputs": [],
   "source": []
  }
 ],
 "metadata": {
  "kernelspec": {
   "display_name": "Python 3",
   "language": "python",
   "name": "python3"
  },
  "language_info": {
   "codemirror_mode": {
    "name": "ipython",
    "version": 3
   },
   "file_extension": ".py",
   "mimetype": "text/x-python",
   "name": "python",
   "nbconvert_exporter": "python",
   "pygments_lexer": "ipython3",
   "version": "3.8.4"
  }
 },
 "nbformat": 4,
 "nbformat_minor": 4
}
